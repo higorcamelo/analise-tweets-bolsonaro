{
 "cells": [
  {
   "cell_type": "code",
   "execution_count": 1,
   "metadata": {},
   "outputs": [
    {
     "name": "stderr",
     "output_type": "stream",
     "text": [
      "[nltk_data] Downloading package punkt to\n",
      "[nltk_data]     C:\\Users\\higor\\AppData\\Roaming\\nltk_data...\n",
      "[nltk_data]   Package punkt is already up-to-date!\n",
      "[nltk_data] Downloading package stopwords to\n",
      "[nltk_data]     C:\\Users\\higor\\AppData\\Roaming\\nltk_data...\n",
      "[nltk_data]   Package stopwords is already up-to-date!\n",
      "[nltk_data] Downloading package vader_lexicon to\n",
      "[nltk_data]     C:\\Users\\higor\\AppData\\Roaming\\nltk_data...\n",
      "[nltk_data]   Package vader_lexicon is already up-to-date!\n"
     ]
    },
    {
     "data": {
      "text/plain": [
       "True"
      ]
     },
     "execution_count": 1,
     "metadata": {},
     "output_type": "execute_result"
    }
   ],
   "source": [
    "import pandas as pd\n",
    "import numpy as np\n",
    "import re\n",
    "import nltk\n",
    "from nltk.corpus import stopwords\n",
    "from nltk.tokenize import word_tokenize\n",
    "from nltk.stem import PorterStemmer\n",
    "import demoji\n",
    "\n",
    "# Baixe recursos adicionais do NLTK\n",
    "nltk.download('punkt')\n",
    "nltk.download('stopwords')\n",
    "nltk.download('vader_lexicon')"
   ]
  },
  {
   "cell_type": "code",
   "execution_count": 2,
   "metadata": {},
   "outputs": [
    {
     "data": {
      "text/html": [
       "<div>\n",
       "<style scoped>\n",
       "    .dataframe tbody tr th:only-of-type {\n",
       "        vertical-align: middle;\n",
       "    }\n",
       "\n",
       "    .dataframe tbody tr th {\n",
       "        vertical-align: top;\n",
       "    }\n",
       "\n",
       "    .dataframe thead th {\n",
       "        text-align: right;\n",
       "    }\n",
       "</style>\n",
       "<table border=\"1\" class=\"dataframe\">\n",
       "  <thead>\n",
       "    <tr style=\"text-align: right;\">\n",
       "      <th></th>\n",
       "      <th>date</th>\n",
       "      <th>text</th>\n",
       "      <th>likes</th>\n",
       "      <th>retweets</th>\n",
       "      <th>link</th>\n",
       "    </tr>\n",
       "  </thead>\n",
       "  <tbody>\n",
       "    <tr>\n",
       "      <th>0</th>\n",
       "      <td>2020-10-21</td>\n",
       "      <td>- Não se justifica um bilionário aporte financ...</td>\n",
       "      <td>16890</td>\n",
       "      <td>2519</td>\n",
       "      <td>https://twitter.com/jairbolsonaro/status/13189...</td>\n",
       "    </tr>\n",
       "    <tr>\n",
       "      <th>1</th>\n",
       "      <td>2020-10-21</td>\n",
       "      <td>A VACINA CHINESA DE JOÃO DORIA\\n- Para o meu G...</td>\n",
       "      <td>23349</td>\n",
       "      <td>4174</td>\n",
       "      <td>https://twitter.com/jairbolsonaro/status/13189...</td>\n",
       "    </tr>\n",
       "    <tr>\n",
       "      <th>2</th>\n",
       "      <td>2020-10-21</td>\n",
       "      <td>@secomvc @ItamaratyGovBr @MinEconomia @ernesto...</td>\n",
       "      <td>2874</td>\n",
       "      <td>154</td>\n",
       "      <td>https://twitter.com/jairbolsonaro/status/13188...</td>\n",
       "    </tr>\n",
       "    <tr>\n",
       "      <th>3</th>\n",
       "      <td>2020-10-21</td>\n",
       "      <td>- Recebi a visita do Conselheiro de Segurança ...</td>\n",
       "      <td>19593</td>\n",
       "      <td>3391</td>\n",
       "      <td>https://twitter.com/jairbolsonaro/status/13188...</td>\n",
       "    </tr>\n",
       "    <tr>\n",
       "      <th>4</th>\n",
       "      <td>2020-10-20</td>\n",
       "      <td>- CURSOS TÉCNICOS. \\n- Portaria 524-MEC, de 30...</td>\n",
       "      <td>16221</td>\n",
       "      <td>3227</td>\n",
       "      <td>https://twitter.com/jairbolsonaro/status/13185...</td>\n",
       "    </tr>\n",
       "  </tbody>\n",
       "</table>\n",
       "</div>"
      ],
      "text/plain": [
       "         date                                               text  likes  \\\n",
       "0  2020-10-21  - Não se justifica um bilionário aporte financ...  16890   \n",
       "1  2020-10-21  A VACINA CHINESA DE JOÃO DORIA\\n- Para o meu G...  23349   \n",
       "2  2020-10-21  @secomvc @ItamaratyGovBr @MinEconomia @ernesto...   2874   \n",
       "3  2020-10-21  - Recebi a visita do Conselheiro de Segurança ...  19593   \n",
       "4  2020-10-20  - CURSOS TÉCNICOS. \\n- Portaria 524-MEC, de 30...  16221   \n",
       "\n",
       "   retweets                                               link  \n",
       "0      2519  https://twitter.com/jairbolsonaro/status/13189...  \n",
       "1      4174  https://twitter.com/jairbolsonaro/status/13189...  \n",
       "2       154  https://twitter.com/jairbolsonaro/status/13188...  \n",
       "3      3391  https://twitter.com/jairbolsonaro/status/13188...  \n",
       "4      3227  https://twitter.com/jairbolsonaro/status/13185...  "
      ]
     },
     "execution_count": 2,
     "metadata": {},
     "output_type": "execute_result"
    }
   ],
   "source": [
    "df = pd.read_csv('data/bolsonaro_tweets.csv')\n",
    "df.head()"
   ]
  },
  {
   "cell_type": "code",
   "execution_count": 3,
   "metadata": {},
   "outputs": [
    {
     "name": "stdout",
     "output_type": "stream",
     "text": [
      "date        7225\n",
      "text           0\n",
      "likes          0\n",
      "retweets       0\n",
      "link           0\n",
      "dtype: int64\n",
      "date        object\n",
      "text        object\n",
      "likes        int64\n",
      "retweets     int64\n",
      "link        object\n",
      "dtype: object\n",
      "(9945, 5)\n"
     ]
    }
   ],
   "source": [
    "# Verificando se há valores nulos\n",
    "print(df.isnull().sum())\n",
    "# Verificando o tipo de dado de cada coluna\n",
    "print(df.dtypes)\n",
    "# Descrição do dataset\n",
    "print(df.shape)"
   ]
  },
  {
   "cell_type": "code",
   "execution_count": 4,
   "metadata": {},
   "outputs": [
    {
     "name": "stdout",
     "output_type": "stream",
     "text": [
      "date        0\n",
      "text        0\n",
      "likes       0\n",
      "retweets    0\n",
      "link        0\n",
      "dtype: int64\n"
     ]
    }
   ],
   "source": [
    "# Converter a coluna 'date' para o tipo datetime\n",
    "df['date'] = pd.to_datetime(df['date'])\n",
    "# Preencher com a data anterior\n",
    "df['date'] = pd.to_datetime(df['date'], errors='coerce')\n",
    "df['date'] = df['date'].ffill() # forward fill\n",
    "\n",
    "print(df.isnull().sum())\n"
   ]
  },
  {
   "cell_type": "code",
   "execution_count": 5,
   "metadata": {},
   "outputs": [],
   "source": [
    "# Remover os links dos tweets\n",
    "def remove_links(text):\n",
    "    text = re.sub(r'http\\S+', '', text)\n",
    "    return text\n",
    "\n",
    "# Aplique a função para remover os links\n",
    "df['text'] = df['text'].apply(lambda x: remove_links(x))"
   ]
  },
  {
   "cell_type": "code",
   "execution_count": 6,
   "metadata": {},
   "outputs": [],
   "source": [
    "# Remover os likes e retweets com valor zero\n",
    "df = df[df['likes'] != 0]\n",
    "df = df[df['retweets'] != 0]"
   ]
  },
  {
   "cell_type": "code",
   "execution_count": 7,
   "metadata": {},
   "outputs": [
    {
     "name": "stdout",
     "output_type": "stream",
     "text": [
      "                                                text  \\\n",
      "0  - Não se justifica um bilionário aporte financ...   \n",
      "1  A VACINA CHINESA DE JOÃO DORIA\\n- Para o meu G...   \n",
      "2  @secomvc @ItamaratyGovBr @MinEconomia @ernesto...   \n",
      "3  - Recebi a visita do Conselheiro de Segurança ...   \n",
      "4  - CURSOS TÉCNICOS. \\n- Portaria 524-MEC, de 30...   \n",
      "\n",
      "                                              tokens  \n",
      "0  [justifica, bilionário, aport, financeiro, med...  \n",
      "1  [vacina, chinesa, joão, doria, governo, qualqu...  \n",
      "2  [secomvc, itamaratygovbr, mineconomia, ernesto...  \n",
      "3  [recebi, visita, conselheiro, segurança, eua, ...  \n",
      "4  [curso, técnico, portaria, 524mec, 30set2020, ...  \n"
     ]
    }
   ],
   "source": [
    "# Tokenizar os tweets\n",
    "\n",
    "# Tokenização e pré-processamento\n",
    "stop_words = set(stopwords.words('portuguese'))\n",
    "ps = PorterStemmer()\n",
    "\n",
    "def preprocess_text(text):\n",
    "    # Remover pontuações\n",
    "    text = re.sub(r'[^\\w\\s]', '', text)\n",
    "    \n",
    "    tokens = word_tokenize(text.lower())\n",
    "    tokens = [token for token in tokens if token.isalnum() and token not in stop_words]\n",
    "    tokens = [ps.stem(token) for token in tokens]\n",
    "    return tokens\n",
    "\n",
    "# Aplicar a função de pré-processamento aos tweets\n",
    "df['tokens'] = df['text'].apply(preprocess_text)\n",
    "\n",
    "# Visualizar o resultado\n",
    "print(df[['text', 'tokens']].head())"
   ]
  },
  {
   "cell_type": "code",
   "execution_count": 8,
   "metadata": {},
   "outputs": [
    {
     "name": "stdout",
     "output_type": "stream",
     "text": [
      "                                                text  \\\n",
      "0  - Não se justifica um bilionário aporte financ...   \n",
      "1  A VACINA CHINESA DE JOÃO DORIA\\n- Para o meu G...   \n",
      "2  @secomvc @ItamaratyGovBr @MinEconomia @ernesto...   \n",
      "3  - Recebi a visita do Conselheiro de Segurança ...   \n",
      "4  - CURSOS TÉCNICOS. \\n- Portaria 524-MEC, de 30...   \n",
      "\n",
      "                                             mencoes  \n",
      "0                                                 []  \n",
      "1                                                 []  \n",
      "2  [secomvc, ItamaratyGovBr, MinEconomia, ernesto...  \n",
      "3                                                 []  \n",
      "4                     [MEC_Comunicacao, mribeiroMEC]  \n"
     ]
    }
   ],
   "source": [
    "# Extrair menções usando regex\n",
    "df['mencoes'] = df['text'].apply(lambda x: re.findall(r'@(\\w+)', x))\n",
    "\n",
    "# Visualizar o resultado\n",
    "print(df[['text', 'mencoes']].head())"
   ]
  },
  {
   "cell_type": "code",
   "execution_count": 9,
   "metadata": {},
   "outputs": [
    {
     "name": "stdout",
     "output_type": "stream",
     "text": [
      "                                                text hashtags\n",
      "0  - Não se justifica um bilionário aporte financ...       []\n",
      "1  A VACINA CHINESA DE JOÃO DORIA\\n- Para o meu G...       []\n",
      "2  @secomvc @ItamaratyGovBr @MinEconomia @ernesto...       []\n",
      "3  - Recebi a visita do Conselheiro de Segurança ...       []\n",
      "4  - CURSOS TÉCNICOS. \\n- Portaria 524-MEC, de 30...       []\n"
     ]
    }
   ],
   "source": [
    "# Função para extrair e contar hashtags de um tweet\n",
    "def extrai_hashtags(text):\n",
    "    hashtags = re.findall(r'#(\\w+)', text)\n",
    "    return hashtags\n",
    "\n",
    "# Criar uma nova coluna 'hashtags' no DataFrame\n",
    "df['hashtags'] = df['text'].apply(extrai_hashtags)\n",
    "\n",
    "# Visualizar o resultado\n",
    "print(df[['text', 'hashtags']].head())"
   ]
  },
  {
   "cell_type": "code",
   "execution_count": 10,
   "metadata": {},
   "outputs": [
    {
     "name": "stdout",
     "output_type": "stream",
     "text": [
      "                                                text emojis\n",
      "0  - Não se justifica um bilionário aporte financ...     []\n",
      "1  A VACINA CHINESA DE JOÃO DORIA\\n- Para o meu G...     []\n",
      "2  @secomvc @ItamaratyGovBr @MinEconomia @ernesto...    [🤝]\n",
      "3  - Recebi a visita do Conselheiro de Segurança ...     []\n",
      "4  - CURSOS TÉCNICOS. \\n- Portaria 524-MEC, de 30...     []\n"
     ]
    }
   ],
   "source": [
    "# Função para extrair emojis de um texto\n",
    "def extract_emojis(text):\n",
    "    return demoji.findall(text)\n",
    "\n",
    "# Criar uma nova coluna 'emojis' no DataFrame\n",
    "df['emojis'] = df['text'].apply(extract_emojis)\n",
    "\n",
    "# Modificar a coluna para ser apenas uma lista de emojis\n",
    "df['emojis'] = df['emojis'].apply(lambda x: list(x.keys()))\n",
    "\n",
    "# Visualizar o resultado\n",
    "print(df[['text', 'emojis']].head())"
   ]
  },
  {
   "cell_type": "code",
   "execution_count": 11,
   "metadata": {},
   "outputs": [
    {
     "data": {
      "text/html": [
       "<div>\n",
       "<style scoped>\n",
       "    .dataframe tbody tr th:only-of-type {\n",
       "        vertical-align: middle;\n",
       "    }\n",
       "\n",
       "    .dataframe tbody tr th {\n",
       "        vertical-align: top;\n",
       "    }\n",
       "\n",
       "    .dataframe thead th {\n",
       "        text-align: right;\n",
       "    }\n",
       "</style>\n",
       "<table border=\"1\" class=\"dataframe\">\n",
       "  <thead>\n",
       "    <tr style=\"text-align: right;\">\n",
       "      <th></th>\n",
       "      <th>date</th>\n",
       "      <th>text</th>\n",
       "      <th>likes</th>\n",
       "      <th>retweets</th>\n",
       "      <th>link</th>\n",
       "      <th>tokens</th>\n",
       "      <th>mencoes</th>\n",
       "      <th>hashtags</th>\n",
       "      <th>emojis</th>\n",
       "    </tr>\n",
       "  </thead>\n",
       "  <tbody>\n",
       "    <tr>\n",
       "      <th>0</th>\n",
       "      <td>2020-10-21</td>\n",
       "      <td>- Não se justifica um bilionário aporte financ...</td>\n",
       "      <td>16890</td>\n",
       "      <td>2519</td>\n",
       "      <td>https://twitter.com/jairbolsonaro/status/13189...</td>\n",
       "      <td>[justifica, bilionário, aport, financeiro, med...</td>\n",
       "      <td>[]</td>\n",
       "      <td>[]</td>\n",
       "      <td>[]</td>\n",
       "    </tr>\n",
       "    <tr>\n",
       "      <th>1</th>\n",
       "      <td>2020-10-21</td>\n",
       "      <td>A VACINA CHINESA DE JOÃO DORIA\\n- Para o meu G...</td>\n",
       "      <td>23349</td>\n",
       "      <td>4174</td>\n",
       "      <td>https://twitter.com/jairbolsonaro/status/13189...</td>\n",
       "      <td>[vacina, chinesa, joão, doria, governo, qualqu...</td>\n",
       "      <td>[]</td>\n",
       "      <td>[]</td>\n",
       "      <td>[]</td>\n",
       "    </tr>\n",
       "    <tr>\n",
       "      <th>2</th>\n",
       "      <td>2020-10-21</td>\n",
       "      <td>@secomvc @ItamaratyGovBr @MinEconomia @ernesto...</td>\n",
       "      <td>2874</td>\n",
       "      <td>154</td>\n",
       "      <td>https://twitter.com/jairbolsonaro/status/13188...</td>\n",
       "      <td>[secomvc, itamaratygovbr, mineconomia, ernesto...</td>\n",
       "      <td>[secomvc, ItamaratyGovBr, MinEconomia, ernesto...</td>\n",
       "      <td>[]</td>\n",
       "      <td>[🤝]</td>\n",
       "    </tr>\n",
       "    <tr>\n",
       "      <th>3</th>\n",
       "      <td>2020-10-21</td>\n",
       "      <td>- Recebi a visita do Conselheiro de Segurança ...</td>\n",
       "      <td>19593</td>\n",
       "      <td>3391</td>\n",
       "      <td>https://twitter.com/jairbolsonaro/status/13188...</td>\n",
       "      <td>[recebi, visita, conselheiro, segurança, eua, ...</td>\n",
       "      <td>[]</td>\n",
       "      <td>[]</td>\n",
       "      <td>[]</td>\n",
       "    </tr>\n",
       "    <tr>\n",
       "      <th>4</th>\n",
       "      <td>2020-10-20</td>\n",
       "      <td>- CURSOS TÉCNICOS. \\n- Portaria 524-MEC, de 30...</td>\n",
       "      <td>16221</td>\n",
       "      <td>3227</td>\n",
       "      <td>https://twitter.com/jairbolsonaro/status/13185...</td>\n",
       "      <td>[curso, técnico, portaria, 524mec, 30set2020, ...</td>\n",
       "      <td>[MEC_Comunicacao, mribeiroMEC]</td>\n",
       "      <td>[]</td>\n",
       "      <td>[]</td>\n",
       "    </tr>\n",
       "  </tbody>\n",
       "</table>\n",
       "</div>"
      ],
      "text/plain": [
       "        date                                               text  likes  \\\n",
       "0 2020-10-21  - Não se justifica um bilionário aporte financ...  16890   \n",
       "1 2020-10-21  A VACINA CHINESA DE JOÃO DORIA\\n- Para o meu G...  23349   \n",
       "2 2020-10-21  @secomvc @ItamaratyGovBr @MinEconomia @ernesto...   2874   \n",
       "3 2020-10-21  - Recebi a visita do Conselheiro de Segurança ...  19593   \n",
       "4 2020-10-20  - CURSOS TÉCNICOS. \\n- Portaria 524-MEC, de 30...  16221   \n",
       "\n",
       "   retweets                                               link  \\\n",
       "0      2519  https://twitter.com/jairbolsonaro/status/13189...   \n",
       "1      4174  https://twitter.com/jairbolsonaro/status/13189...   \n",
       "2       154  https://twitter.com/jairbolsonaro/status/13188...   \n",
       "3      3391  https://twitter.com/jairbolsonaro/status/13188...   \n",
       "4      3227  https://twitter.com/jairbolsonaro/status/13185...   \n",
       "\n",
       "                                              tokens  \\\n",
       "0  [justifica, bilionário, aport, financeiro, med...   \n",
       "1  [vacina, chinesa, joão, doria, governo, qualqu...   \n",
       "2  [secomvc, itamaratygovbr, mineconomia, ernesto...   \n",
       "3  [recebi, visita, conselheiro, segurança, eua, ...   \n",
       "4  [curso, técnico, portaria, 524mec, 30set2020, ...   \n",
       "\n",
       "                                             mencoes hashtags emojis  \n",
       "0                                                 []       []     []  \n",
       "1                                                 []       []     []  \n",
       "2  [secomvc, ItamaratyGovBr, MinEconomia, ernesto...       []    [🤝]  \n",
       "3                                                 []       []     []  \n",
       "4                     [MEC_Comunicacao, mribeiroMEC]       []     []  "
      ]
     },
     "execution_count": 11,
     "metadata": {},
     "output_type": "execute_result"
    }
   ],
   "source": [
    "df.head()"
   ]
  },
  {
   "cell_type": "code",
   "execution_count": 12,
   "metadata": {},
   "outputs": [
    {
     "name": "stdout",
     "output_type": "stream",
     "text": [
      "mencoes\n",
      "govbr              196\n",
      "MInfraestrutura    194\n",
      "BolsonaroSP        165\n",
      "tarcisiogdf        147\n",
      "CarlosBolsonaro    131\n",
      "MinEconomia        126\n",
      "FlavioBolsonaro    118\n",
      "minsaude           111\n",
      "mdregional_br      107\n",
      "secomvc             96\n",
      "DNIToficial         68\n",
      "exercitooficial     67\n",
      "MEC_Comunicacao     65\n",
      "DefesaGovBr         50\n",
      "jairbolsonaro       46\n",
      "rogeriosmarinho     46\n",
      "MinCidadania        45\n",
      "TerezaCrisMS        44\n",
      "SF_Moro             42\n",
      "tvbrasilgov         42\n",
      "ernestofaraujo      41\n",
      "JusticaGovBR        41\n",
      "PRFBrasil           40\n",
      "DamaresAlves        39\n",
      "mctic               38\n",
      "ItamaratyGovBr      37\n",
      "portosdobrasil      37\n",
      "mmeioambiente       35\n",
      "OdeCarvalho         35\n",
      "Astro_Pontes        34\n",
      "Name: count, dtype: int64\n"
     ]
    }
   ],
   "source": [
    "# Ver as 25 menções mais frequentes\n",
    "mencoes = df['mencoes'].explode().value_counts() # explode() cria uma linha para cada menção\n",
    "print(mencoes[:30])\n",
    "# Ministerios mais mencionados: MinInfraestrutura (Tarcísio), MinEconomia (Guedes), MinSaúde (Mandetta/Teich/Pazuello)\n",
    "# Filhos mais mencionados: Carlos, Eduardo, Flávio "
   ]
  },
  {
   "cell_type": "code",
   "execution_count": 13,
   "metadata": {},
   "outputs": [
    {
     "name": "stdout",
     "output_type": "stream",
     "text": [
      "hashtags\n",
      "choramais               10\n",
      "fakenews                 5\n",
      "NasRuasComBolsonaro      4\n",
      "tbt                      3\n",
      "FORAPT                   3\n",
      "BolsonaroNaBand          3\n",
      "ForaForoDeSãoPaulo       3\n",
      "BRASILNÃOÉCUBA           2\n",
      "JairMessiasBolsonaro     2\n",
      "ESCOLASEMPARTIDO         2\n",
      "Name: count, dtype: int64\n"
     ]
    }
   ],
   "source": [
    "# HashTags mais frequentes\n",
    "hashtags = df['hashtags'].explode().value_counts()\n",
    "print(hashtags[:10]) # Destaque para hashtags de apoio a si mesmo e de afrontração a opositores"
   ]
  },
  {
   "cell_type": "code",
   "execution_count": 14,
   "metadata": {},
   "outputs": [
    {
     "name": "stdout",
     "output_type": "stream",
     "text": [
      "emojis\n",
      "🇧🇷    702\n",
      "👍🏻    389\n",
      "👍     290\n",
      "🤝     143\n",
      "👉🏻     47\n",
      "😂      46\n",
      "👍🏼     22\n",
      "🇺🇸     18\n",
      "🤔      17\n",
      "🇮🇱     16\n",
      "Name: count, dtype: int64\n"
     ]
    }
   ],
   "source": [
    "# Emojis mais frequentes\n",
    "emojis = df['emojis'].explode().value_counts()\n",
    "print(emojis[:10]) # Destaque para emojis com a bandeira do Brasil e de comunicação \"informal\", destaque para a maior frequencia para a bandeira dos EUA"
   ]
  },
  {
   "cell_type": "code",
   "execution_count": 15,
   "metadata": {},
   "outputs": [],
   "source": [
    "# Exportar o DataFrame para um arquivo CSV e selecionar as colunas de interesse\n",
    "df[['date', 'tokens','likes', 'retweets', 'mencoes', 'hashtags', 'emojis']].to_csv('data/bolsonaro_tweets_preprocessado.csv', index=False)"
   ]
  }
 ],
 "metadata": {
  "kernelspec": {
   "display_name": "Python 3",
   "language": "python",
   "name": "python3"
  },
  "language_info": {
   "codemirror_mode": {
    "name": "ipython",
    "version": 3
   },
   "file_extension": ".py",
   "mimetype": "text/x-python",
   "name": "python",
   "nbconvert_exporter": "python",
   "pygments_lexer": "ipython3",
   "version": "3.9.6"
  }
 },
 "nbformat": 4,
 "nbformat_minor": 2
}
